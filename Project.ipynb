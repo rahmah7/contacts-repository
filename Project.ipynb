{
 "cells": [
  {
   "cell_type": "markdown",
   "metadata": {},
   "source": [
    "![ine-divider](https://user-images.githubusercontent.com/7065401/92672068-398e8080-f2ee-11ea-82d6-ad53f7feb5c0.png)\n",
    "<hr>\n",
    "\n",
    "### GitHub and Version Control\n",
    "# Contacts repository\n",
    "\n",
    "This project will have somewhat unusual requirements among INE data science courses.  Most such projects ask you to complete cells in a notebook such as this.  However, this project will predominantly involve working at the command line.\n",
    "\n",
    "There *does* exist a bash kernel for Jupyter, which this notebook is saved as. To install it execute in your terminal:\n",
    "\n",
    "```\n",
    "pip install bash_kernel\n",
    "python -m bash_kernel.install\n",
    "```\n",
    "\n",
    "and restart your Notebook.\n",
    "\n",
    "However, the kinds of interactivity you have at a shell are much more flexible than in a notebook.  However, you *can* run bash commands if you install that Jupyter kernel. E.g.:"
   ]
  },
  {
   "cell_type": "code",
   "execution_count": 1,
   "metadata": {},
   "outputs": [
    {
     "name": "stdout",
     "output_type": "stream",
     "text": [
      "git version 2.27.0\n"
     ]
    }
   ],
   "source": [
    "git --version"
   ]
  },
  {
   "cell_type": "markdown",
   "metadata": {},
   "source": [
    "![orange-divider](https://user-images.githubusercontent.com/7065401/92672455-187a5f80-f2ef-11ea-890c-40be9474f7b7.png)"
   ]
  },
  {
   "cell_type": "markdown",
   "metadata": {},
   "source": [
    "## Part 1\n",
    "\n",
    "**Create a project**\n",
    "\n",
    "For this task, you should put your address book under version control.  In particular, use records in the vCard format, which nearly every address manager uses either natively or as an import/export option.  Ideally, you should use your own data, but I have provided a few samples from my personal address book; I have only included some businesses with public contact information (that may or may not be in business currently, some are years old).\n",
    "\n",
    "The vCard format allows concatenation of contacts in a single file, but for this purpose, it is better to create one contact per file.\n",
    "\n",
    "* Create a repository.\n",
    "* Add all contacts.\n",
    "* Use appropriate messages to indicate additions.\n",
    "* Examine the history of your changes."
   ]
  },
  {
   "cell_type": "code",
   "execution_count": 2,
   "metadata": {},
   "outputs": [
    {
     "name": "stdout",
     "output_type": "stream",
     "text": [
      "00.vcf\t01.vcf\t02.vcf\t03.vcf\t04.vcf\t05.vcf\n",
      "---\n",
      "BEGIN:VCARD\n",
      "VERSION:3.0\n",
      "FN:Absolutely Phobulous\n",
      "N:;Absolutely Phobulous;;;\n",
      "TEL;TYPE=CELL:18186458864\n",
      "TEL;TYPE=HOME:310-360-3930\n",
      "CATEGORIES:myContacts,restaurant\n",
      "END:VCARD\n",
      "\n"
     ]
    }
   ],
   "source": [
    "# Example files\n",
    "ls vcf\n",
    "echo '---'\n",
    "cat vcf/03.vcf"
   ]
  },
  {
   "cell_type": "markdown",
   "metadata": {},
   "source": [
    "**Solution**"
   ]
  },
  {
   "cell_type": "code",
   "execution_count": 3,
   "metadata": {},
   "outputs": [
    {
     "name": "stdout",
     "output_type": "stream",
     "text": [
      "Initialized empty Git repository in /home/dmertz/git/INE/git/01-Software-Project/vcf/.git/\n",
      "[master (root-commit) 655b9db] Add initial contacts\n",
      " 6 files changed, 57 insertions(+)\n",
      " create mode 100644 00.vcf\n",
      " create mode 100644 01.vcf\n",
      " create mode 100644 02.vcf\n",
      " create mode 100644 03.vcf\n",
      " create mode 100644 04.vcf\n",
      " create mode 100644 05.vcf\n",
      "\u001b[33mcommit 655b9db9b5276894d9c950681d4fc35880ed3f79\u001b[m\u001b[33m (\u001b[m\u001b[1;36mHEAD -> \u001b[m\u001b[1;32mmaster\u001b[m\u001b[33m)\u001b[m\u001b[m\n",
      "Author: David Mertz <mertz@kdm.training>\u001b[m\n",
      "Date:   Tue Jan 5 16:14:37 2021 -0500\u001b[m\n",
      "\u001b[m\n",
      "    Add initial contacts\u001b[m\n",
      "\u001b[K\u001b[?1l\u001b>"
     ]
    }
   ],
   "source": [
    "cd vcf\n",
    "git init\n",
    "git add *.vcf\n",
    "git commit -m \"Add initial contacts\"\n",
    "git log"
   ]
  },
  {
   "cell_type": "markdown",
   "metadata": {},
   "source": [
    "![orange-divider](https://user-images.githubusercontent.com/7065401/92672455-187a5f80-f2ef-11ea-890c-40be9474f7b7.png)\n",
    "\n",
    "## Part 2\n",
    "\n",
    "**Branching**\n",
    "\n",
    "Within your contacts repository, creat separate branches in which to make different types of modifications.\n",
    "\n",
    "* A branch named `phone-format` should be used to standardize the format of all phone numbers.  The vCard format does not specifify an exact convention about when dashes, spaces, parenthesis, or periods will be used within formatted numbers.  Quite likely you have accumulated contacts with varying formatting.  \n",
    "* Make all phone number formats consistent within the repository, and add those canonicalization changes with appropriate messages.\n",
    "* Make a different branch `categories` (starting with `main`/`master`).\n",
    "* Modify each vCard to include a relavant category, added to any existing categories.  Multiple categories may be comma separated within the vCard format.\n",
    "* Examine the history of your changes."
   ]
  },
  {
   "cell_type": "markdown",
   "metadata": {},
   "source": [
    "**Solution**"
   ]
  },
  {
   "cell_type": "code",
   "execution_count": 4,
   "metadata": {},
   "outputs": [
    {
     "name": "stdout",
     "output_type": "stream",
     "text": [
      "Switched to a new branch 'phone-format'\n",
      "[phone-format b6dd2e6] Use standard phone format\n",
      " 6 files changed, 7 insertions(+), 7 deletions(-)\n",
      "Switched to a new branch 'categories'\n",
      "[categories 729391b] Add business category to all cards\n",
      " 6 files changed, 6 insertions(+), 6 deletions(-)\n"
     ]
    }
   ],
   "source": [
    "git checkout -B phone-format\n",
    "# This is \"cheat\" for format only; use a real editor\n",
    "for f in *.vcf; do sed -i 's/\\(TEL;TYPE=.*:\\).*/\\11-555-555-5555/' $f; done\n",
    "git add .\n",
    "git commit -m \"Use standard phone format\"\n",
    "git checkout -B categories master\n",
    "# Again, \"cheat\" to only technically perform change\n",
    "for f in *.vcf; do sed -i 's/\\(CATEGORIES.*\\)/\\1,business/' $f; done\n",
    "git add *.vcf\n",
    "git commit -m \"Add business category to all cards\""
   ]
  },
  {
   "cell_type": "code",
   "execution_count": 5,
   "metadata": {},
   "outputs": [
    {
     "name": "stdout",
     "output_type": "stream",
     "text": [
      "* \u001b[33mcommit 729391b3560545f8d5ece37f164e8937a711ecdc\u001b[m\u001b[33m (\u001b[m\u001b[1;36mHEAD -> \u001b[m\u001b[1;32mcategories\u001b[m\u001b[33m)\u001b[m\u001b[m\n",
      "\u001b[31m|\u001b[m Author: David Mertz <mertz@kdm.training>\u001b[m\n",
      "\u001b[31m|\u001b[m Date:   Tue Jan 5 16:14:38 2021 -0500\u001b[m\n",
      "\u001b[31m|\u001b[m \u001b[m\n",
      "\u001b[31m|\u001b[m     Add business category to all cards\u001b[m\n",
      "\u001b[31m|\u001b[m   \u001b[m\n",
      "\u001b[31m|\u001b[m * \u001b[33mcommit b6dd2e62130facf93f20106e3b095b3ea2639bce\u001b[m\u001b[33m (\u001b[m\u001b[1;32mphone-format\u001b[m\u001b[33m)\u001b[m\u001b[m\n",
      "\u001b[31m|\u001b[m\u001b[31m/\u001b[m  Author: David Mertz <mertz@kdm.training>\u001b[m\n",
      "\u001b[31m|\u001b[m   Date:   Tue Jan 5 16:14:38 2021 -0500\u001b[m\n",
      "\u001b[31m|\u001b[m   \u001b[m\n",
      "\u001b[31m|\u001b[m       Use standard phone format\u001b[m\n",
      "\u001b[31m|\u001b[m \u001b[m\n",
      "* \u001b[33mcommit 655b9db9b5276894d9c950681d4fc35880ed3f79\u001b[m\u001b[33m (\u001b[m\u001b[1;32mmaster\u001b[m\u001b[33m)\u001b[m\u001b[m\n",
      "  Author: David Mertz <mertz@kdm.training>\u001b[m\n",
      "  Date:   Tue Jan 5 16:14:37 2021 -0500\u001b[m\n",
      "  \u001b[m\n",
      "      Add initial contacts\u001b[m\n",
      "\u001b[K\u001b[?1l\u001b>"
     ]
    }
   ],
   "source": [
    "git log --all --graph"
   ]
  },
  {
   "cell_type": "markdown",
   "metadata": {},
   "source": [
    "![orange-divider](https://user-images.githubusercontent.com/7065401/92672455-187a5f80-f2ef-11ea-890c-40be9474f7b7.png)\n",
    "\n",
    "## Part 3\n",
    "\n",
    "**Merging**\n",
    "\n",
    "Unify these independent changes into a single `main` or `master` branch that reflects all the changes in different branches."
   ]
  },
  {
   "cell_type": "markdown",
   "metadata": {},
   "source": [
    "**Solution**"
   ]
  },
  {
   "cell_type": "code",
   "execution_count": 6,
   "metadata": {},
   "outputs": [
    {
     "name": "stdout",
     "output_type": "stream",
     "text": [
      "Switched to branch 'master'\n",
      "\u001b[1mdiff --git a/00.vcf b/00.vcf\u001b[m\n",
      "\u001b[1mindex b5b6045..9285ffa 100644\u001b[m\n",
      "\u001b[1m--- a/00.vcf\u001b[m\n",
      "\u001b[1m+++ b/00.vcf\u001b[m\n",
      "\u001b[36m@@ -2,7 +2,7 @@\u001b[m \u001b[mBEGIN:VCARD\u001b[m\n",
      " VERSION:3.0\u001b[m\n",
      " FN:A Beautiful Day Spa Massage\u001b[m\n",
      " N:Massage;A Beautiful Day;Spa;;\u001b[m\n",
      "\u001b[31m-TEL;TYPE=CELL:(626) 578-9999\u001b[m\n",
      "\u001b[32m+\u001b[m\u001b[32mTEL;TYPE=CELL:1-555-555-5555\u001b[m\n",
      " CATEGORIES:myContacts\u001b[m\n",
      " END:VCARD\u001b[m\n",
      " \u001b[m\n",
      "\u001b[1mdiff --git a/01.vcf b/01.vcf\u001b[m\n",
      "\u001b[1mindex e149fc9..ea55bed 100644\u001b[m\n",
      "\u001b[1m--- a/01.vcf\u001b[m\n",
      "\u001b[1m+++ b/01.vcf\u001b[m\n",
      "\u001b[36m@@ -2,7 +2,7 @@\u001b[m \u001b[mBEGIN:VCARD\u001b[m\n",
      " VERSION:3.0\u001b[m\n",
      " FN:A-1 Phoenix Performance Auto\u001b[m\n",
      " N:Auto;A-1 Phoenix;Performance;;\u001b[m\n",
      "\u001b[31m-TEL;TYPE=WORK:323-651-1211\u001b[m\n",
      "\u001b[32m+\u001b[m\u001b[32mTEL;TYPE=WORK:1-555-555-5555\u001b[m\n",
      " ADR;TYPE=HOME:;;7950 Beverly Blvd;Los Angeles;CA;90048;;7950 Beverly Blvd\\n\u001b[m\n",
      "  Los Angeles CA 90048\u001b[m\n",
      " item1.URL:http\\://a1performanceautobody.com\u001b[m\n",
      "\u001b[1mdiff --git a/02.vcf b/02.vcf\u001b[m\n",
      "\u001b[1mindex 83209d6..32d556d 100644\u001b[m\n",
      "\u001b[1m--- a/02.vcf\u001b[m\n",
      "\u001b[1m+++ b/02.vcf\u001b[m\n",
      "\u001b[36m@@ -4,7 +4,7 @@\u001b[m \u001b[mFN:A.E. Robinson Oil and Propane\u001b[m\n",
      " N:Oil and Propane;A.E. Robinson;;;\u001b[m\n",
      " item1.EMAIL;TYPE=INTERNET:mdami@aerobinson.com\u001b[m\n",
      " item1.X-ABLabel:\u001b[m\n",
      "\u001b[31m-TEL;TYPE=WORK:207-924-5242\u001b[m\n",
      "\u001b[32m+\u001b[m\u001b[32mTEL;TYPE=WORK:1-555-555-5555\u001b[m\n",
      " item3.ORG:A.E. Robinson\u001b[m\n",
      " item3.X-ABLabel:\u001b[m\n",
      " CATEGORIES:myContacts\u001b[m\n",
      "\u001b[1mdiff --git a/03.vcf b/03.vcf\u001b[m\n",
      "\u001b[1mindex ba354ed..54475a5 100644\u001b[m\n",
      "\u001b[1m--- a/03.vcf\u001b[m\n",
      "\u001b[1m+++ b/03.vcf\u001b[m\n",
      "\u001b[36m@@ -2,8 +2,8 @@\u001b[m \u001b[mBEGIN:VCARD\u001b[m\n",
      " VERSION:3.0\u001b[m\n",
      " FN:Absolutely Phobulous\u001b[m\n",
      " N:;Absolutely Phobulous;;;\u001b[m\n",
      "\u001b[31m-TEL;TYPE=CELL:18186458864\u001b[m\n",
      "\u001b[31m-TEL;TYPE=HOME:310-360-3930\u001b[m\n",
      "\u001b[32m+\u001b[m\u001b[32mTEL;TYPE=CELL:1-555-555-5555\u001b[m\n",
      "\u001b[32m+\u001b[m\u001b[32mTEL;TYPE=HOME:1-555-555-5555\u001b[m\n",
      " CATEGORIES:myContacts,restaurant\u001b[m\n",
      " END:VCARD\u001b[m\n",
      " \u001b[m\n",
      "\u001b[1mdiff --git a/04.vcf b/04.vcf\u001b[m\n",
      "\u001b[1mindex c1fa292..4a6c030 100644\u001b[m\n",
      "\u001b[1m--- a/04.vcf\u001b[m\n",
      "\u001b[1m+++ b/04.vcf\u001b[m\n",
      "\u001b[36m@@ -2,7 +2,7 @@\u001b[m \u001b[mBEGIN:VCARD\u001b[m\n",
      " VERSION:3.0\u001b[m\n",
      " FN:Alpha Pet - Moni\u001b[m\n",
      " N:Moni;Alpha Pet;-;;\u001b[m\n",
      "\u001b[31m-TEL;TYPE=CELL:4137739643\u001b[m\n",
      "\u001b[32m+\u001b[m\u001b[32mTEL;TYPE=CELL:1-555-555-5555\u001b[m\n",
      " CATEGORIES:myContacts\u001b[m\n",
      " END:VCARD\u001b[m\n",
      " \u001b[m\n",
      "\u001b[1mdiff --git a/05.vcf b/05.vcf\u001b[m\n",
      "\u001b[1mindex 3d68b9c..403d04d 100644\u001b[m\n",
      "\u001b[1m--- a/05.vcf\u001b[m\n",
      "\u001b[1m+++ b/05.vcf\u001b[m\n",
      "\u001b[36m@@ -2,7 +2,7 @@\u001b[m \u001b[mBEGIN:VCARD\u001b[m\n",
      " VERSION:3.0\u001b[m\n",
      " FN:AMF Midtown Lanes\u001b[m\n",
      " N:Lanes;AMF;Midtown;;\u001b[m\n",
      "\u001b[31m-TEL;TYPE=CELL:323-933-7171\u001b[m\n",
      "\u001b[32m+\u001b[m\u001b[32mTEL;TYPE=CELL:1-555-555-5555\u001b[m\n",
      " CATEGORIES:myContacts\u001b[m\n",
      " END:VCARD\u001b[m\n",
      " \u001b[m\n",
      "Updating 655b9db..b6dd2e6\n",
      "Fast-forward\n",
      " 00.vcf | 2 \u001b[32m+\u001b[m\u001b[31m-\u001b[m\n",
      " 01.vcf | 2 \u001b[32m+\u001b[m\u001b[31m-\u001b[m\n",
      " 02.vcf | 2 \u001b[32m+\u001b[m\u001b[31m-\u001b[m\n",
      " 03.vcf | 4 \u001b[32m++\u001b[m\u001b[31m--\u001b[m\n",
      " 04.vcf | 2 \u001b[32m+\u001b[m\u001b[31m-\u001b[m\n",
      " 05.vcf | 2 \u001b[32m+\u001b[m\u001b[31m-\u001b[m\n",
      " 6 files changed, 7 insertions(+), 7 deletions(-)\n"
     ]
    }
   ],
   "source": [
    "git checkout master\n",
    "git --no-pager diff master phone-format \n",
    "git merge phone-format   # master target implied"
   ]
  },
  {
   "cell_type": "code",
   "execution_count": 7,
   "metadata": {},
   "outputs": [
    {
     "name": "stdout",
     "output_type": "stream",
     "text": [
      "\u001b[1mdiff --git a/00.vcf b/00.vcf\u001b[m\n",
      "\u001b[1mindex 0e358df..9285ffa 100644\u001b[m\n",
      "\u001b[1m--- a/00.vcf\u001b[m\n",
      "\u001b[1m+++ b/00.vcf\u001b[m\n",
      "\u001b[36m@@ -2,7 +2,7 @@\u001b[m \u001b[mBEGIN:VCARD\u001b[m\n",
      " VERSION:3.0\u001b[m\n",
      " FN:A Beautiful Day Spa Massage\u001b[m\n",
      " N:Massage;A Beautiful Day;Spa;;\u001b[m\n",
      "\u001b[31m-TEL;TYPE=CELL:(626) 578-9999\u001b[m\n",
      "\u001b[31m-CATEGORIES:myContacts,business\u001b[m\n",
      "\u001b[32m+\u001b[m\u001b[32mTEL;TYPE=CELL:1-555-555-5555\u001b[m\n",
      "\u001b[32m+\u001b[m\u001b[32mCATEGORIES:myContacts\u001b[m\n",
      " END:VCARD\u001b[m\n",
      " \u001b[m\n",
      "\u001b[1mdiff --git a/01.vcf b/01.vcf\u001b[m\n",
      "\u001b[1mindex 0994c5a..ea55bed 100644\u001b[m\n",
      "\u001b[1m--- a/01.vcf\u001b[m\n",
      "\u001b[1m+++ b/01.vcf\u001b[m\n",
      "\u001b[36m@@ -2,11 +2,11 @@\u001b[m \u001b[mBEGIN:VCARD\u001b[m\n",
      " VERSION:3.0\u001b[m\n",
      " FN:A-1 Phoenix Performance Auto\u001b[m\n",
      " N:Auto;A-1 Phoenix;Performance;;\u001b[m\n",
      "\u001b[31m-TEL;TYPE=WORK:323-651-1211\u001b[m\n",
      "\u001b[32m+\u001b[m\u001b[32mTEL;TYPE=WORK:1-555-555-5555\u001b[m\n",
      " ADR;TYPE=HOME:;;7950 Beverly Blvd;Los Angeles;CA;90048;;7950 Beverly Blvd\\n\u001b[m\n",
      "  Los Angeles CA 90048\u001b[m\n",
      " item1.URL:http\\://a1performanceautobody.com\u001b[m\n",
      " item1.X-ABLabel:PROFILE\u001b[m\n",
      "\u001b[31m-CATEGORIES:myContacts,business\u001b[m\n",
      "\u001b[32m+\u001b[m\u001b[32mCATEGORIES:myContacts\u001b[m\n",
      " END:VCARD\u001b[m\n",
      " \u001b[m\n",
      "\u001b[1mdiff --git a/02.vcf b/02.vcf\u001b[m\n",
      "\u001b[1mindex 60c6232..32d556d 100644\u001b[m\n",
      "\u001b[1m--- a/02.vcf\u001b[m\n",
      "\u001b[1m+++ b/02.vcf\u001b[m\n",
      "\u001b[36m@@ -4,9 +4,9 @@\u001b[m \u001b[mFN:A.E. Robinson Oil and Propane\u001b[m\n",
      " N:Oil and Propane;A.E. Robinson;;;\u001b[m\n",
      " item1.EMAIL;TYPE=INTERNET:mdami@aerobinson.com\u001b[m\n",
      " item1.X-ABLabel:\u001b[m\n",
      "\u001b[31m-TEL;TYPE=WORK:207-924-5242\u001b[m\n",
      "\u001b[32m+\u001b[m\u001b[32mTEL;TYPE=WORK:1-555-555-5555\u001b[m\n",
      " item3.ORG:A.E. Robinson\u001b[m\n",
      " item3.X-ABLabel:\u001b[m\n",
      "\u001b[31m-CATEGORIES:myContacts,business\u001b[m\n",
      "\u001b[32m+\u001b[m\u001b[32mCATEGORIES:myContacts\u001b[m\n",
      " END:VCARD\u001b[m\n",
      " \u001b[m\n",
      "\u001b[1mdiff --git a/03.vcf b/03.vcf\u001b[m\n",
      "\u001b[1mindex a682e08..54475a5 100644\u001b[m\n",
      "\u001b[1m--- a/03.vcf\u001b[m\n",
      "\u001b[1m+++ b/03.vcf\u001b[m\n",
      "\u001b[36m@@ -2,8 +2,8 @@\u001b[m \u001b[mBEGIN:VCARD\u001b[m\n",
      " VERSION:3.0\u001b[m\n",
      " FN:Absolutely Phobulous\u001b[m\n",
      " N:;Absolutely Phobulous;;;\u001b[m\n",
      "\u001b[31m-TEL;TYPE=CELL:18186458864\u001b[m\n",
      "\u001b[31m-TEL;TYPE=HOME:310-360-3930\u001b[m\n",
      "\u001b[31m-CATEGORIES:myContacts,restaurant,business\u001b[m\n",
      "\u001b[32m+\u001b[m\u001b[32mTEL;TYPE=CELL:1-555-555-5555\u001b[m\n",
      "\u001b[32m+\u001b[m\u001b[32mTEL;TYPE=HOME:1-555-555-5555\u001b[m\n",
      "\u001b[32m+\u001b[m\u001b[32mCATEGORIES:myContacts,restaurant\u001b[m\n",
      " END:VCARD\u001b[m\n",
      " \u001b[m\n",
      "\u001b[1mdiff --git a/04.vcf b/04.vcf\u001b[m\n",
      "\u001b[1mindex 1ff6cc9..4a6c030 100644\u001b[m\n",
      "\u001b[1m--- a/04.vcf\u001b[m\n",
      "\u001b[1m+++ b/04.vcf\u001b[m\n",
      "\u001b[36m@@ -2,7 +2,7 @@\u001b[m \u001b[mBEGIN:VCARD\u001b[m\n",
      " VERSION:3.0\u001b[m\n",
      " FN:Alpha Pet - Moni\u001b[m\n",
      " N:Moni;Alpha Pet;-;;\u001b[m\n",
      "\u001b[31m-TEL;TYPE=CELL:4137739643\u001b[m\n",
      "\u001b[31m-CATEGORIES:myContacts,business\u001b[m\n",
      "\u001b[32m+\u001b[m\u001b[32mTEL;TYPE=CELL:1-555-555-5555\u001b[m\n",
      "\u001b[32m+\u001b[m\u001b[32mCATEGORIES:myContacts\u001b[m\n",
      " END:VCARD\u001b[m\n",
      " \u001b[m\n",
      "\u001b[1mdiff --git a/05.vcf b/05.vcf\u001b[m\n",
      "\u001b[1mindex 45aeb2b..403d04d 100644\u001b[m\n",
      "\u001b[1m--- a/05.vcf\u001b[m\n",
      "\u001b[1m+++ b/05.vcf\u001b[m\n",
      "\u001b[36m@@ -2,7 +2,7 @@\u001b[m \u001b[mBEGIN:VCARD\u001b[m\n",
      " VERSION:3.0\u001b[m\n",
      " FN:AMF Midtown Lanes\u001b[m\n",
      " N:Lanes;AMF;Midtown;;\u001b[m\n",
      "\u001b[31m-TEL;TYPE=CELL:323-933-7171\u001b[m\n",
      "\u001b[31m-CATEGORIES:myContacts,business\u001b[m\n",
      "\u001b[32m+\u001b[m\u001b[32mTEL;TYPE=CELL:1-555-555-5555\u001b[m\n",
      "\u001b[32m+\u001b[m\u001b[32mCATEGORIES:myContacts\u001b[m\n",
      " END:VCARD\u001b[m\n",
      " \u001b[m\n",
      "Auto-merging 05.vcf\n",
      "CONFLICT (content): Merge conflict in 05.vcf\n",
      "Auto-merging 04.vcf\n",
      "CONFLICT (content): Merge conflict in 04.vcf\n",
      "Auto-merging 03.vcf\n",
      "CONFLICT (content): Merge conflict in 03.vcf\n",
      "Auto-merging 02.vcf\n",
      "Auto-merging 01.vcf\n",
      "Auto-merging 00.vcf\n",
      "CONFLICT (content): Merge conflict in 00.vcf\n",
      "Automatic merge failed; fix conflicts and then commit the result.\n"
     ]
    },
    {
     "ename": "",
     "evalue": "1",
     "output_type": "error",
     "traceback": []
    }
   ],
   "source": [
    "git --no-pager diff categories master\n",
    "git merge categories"
   ]
  },
  {
   "cell_type": "code",
   "execution_count": 8,
   "metadata": {},
   "outputs": [
    {
     "name": "stdout",
     "output_type": "stream",
     "text": [
      "Updated 4 paths from the index\n",
      "On branch master\n",
      "You have unmerged paths.\n",
      "  (fix conflicts and run \"git commit\")\n",
      "  (use \"git merge --abort\" to abort the merge)\n",
      "\n",
      "Changes to be committed:\n",
      "\t\u001b[32mmodified:   01.vcf\u001b[m\n",
      "\t\u001b[32mmodified:   02.vcf\u001b[m\n",
      "\n",
      "Unmerged paths:\n",
      "  (use \"git add <file>...\" to mark resolution)\n",
      "\t\u001b[31mboth modified:   00.vcf\u001b[m\n",
      "\t\u001b[31mboth modified:   03.vcf\u001b[m\n",
      "\t\u001b[31mboth modified:   04.vcf\u001b[m\n",
      "\t\u001b[31mboth modified:   05.vcf\u001b[m\n",
      "\n",
      "[master c6c6e96] Resolve the merge\n"
     ]
    }
   ],
   "source": [
    "# If merge conflicts are encountered, resolve by editing files\n",
    "# TODO: this is \"cheap\" resolution\n",
    "git checkout --theirs *.vcf  # a kludge\n",
    "# ... then\n",
    "git status\n",
    "git add .\n",
    "git commit -m \"Resolve the merge\""
   ]
  },
  {
   "cell_type": "code",
   "execution_count": 9,
   "metadata": {},
   "outputs": [
    {
     "name": "stdout",
     "output_type": "stream",
     "text": [
      "*   \u001b[33mcommit c6c6e9629a4e00862ab20aae9e2f8645935174bc\u001b[m\u001b[33m (\u001b[m\u001b[1;36mHEAD -> \u001b[m\u001b[1;32mmaster\u001b[m\u001b[33m)\u001b[m\n",
      "\u001b[31m|\u001b[m\u001b[32m\\\u001b[m  Merge: b6dd2e6 729391b\n",
      "\u001b[31m|\u001b[m \u001b[32m|\u001b[m Author: David Mertz <mertz@kdm.training>\n",
      "\u001b[31m|\u001b[m \u001b[32m|\u001b[m Date:   Tue Jan 5 16:15:15 2021 -0500\n",
      "\u001b[31m|\u001b[m \u001b[32m|\u001b[m \n",
      "\u001b[31m|\u001b[m \u001b[32m|\u001b[m     Resolve the merge\n",
      "\u001b[31m|\u001b[m \u001b[32m|\u001b[m \n",
      "\u001b[31m|\u001b[m * \u001b[33mcommit 729391b3560545f8d5ece37f164e8937a711ecdc\u001b[m\u001b[33m (\u001b[m\u001b[1;32mcategories\u001b[m\u001b[33m)\u001b[m\n",
      "\u001b[31m|\u001b[m \u001b[32m|\u001b[m Author: David Mertz <mertz@kdm.training>\n",
      "\u001b[31m|\u001b[m \u001b[32m|\u001b[m Date:   Tue Jan 5 16:14:38 2021 -0500\n",
      "\u001b[31m|\u001b[m \u001b[32m|\u001b[m \n",
      "\u001b[31m|\u001b[m \u001b[32m|\u001b[m     Add business category to all cards\n",
      "\u001b[31m|\u001b[m \u001b[32m|\u001b[m \n",
      "* \u001b[32m|\u001b[m \u001b[33mcommit b6dd2e62130facf93f20106e3b095b3ea2639bce\u001b[m\u001b[33m (\u001b[m\u001b[1;32mphone-format\u001b[m\u001b[33m)\u001b[m\n",
      "\u001b[32m|\u001b[m\u001b[32m/\u001b[m  Author: David Mertz <mertz@kdm.training>\n",
      "\u001b[32m|\u001b[m   Date:   Tue Jan 5 16:14:38 2021 -0500\n",
      "\u001b[32m|\u001b[m   \n",
      "\u001b[32m|\u001b[m       Use standard phone format\n",
      "\u001b[32m|\u001b[m \n",
      "* \u001b[33mcommit 655b9db9b5276894d9c950681d4fc35880ed3f79\u001b[m\n",
      "  Author: David Mertz <mertz@kdm.training>\n",
      "  Date:   Tue Jan 5 16:14:37 2021 -0500\n",
      "  \n",
      "      Add initial contacts\n"
     ]
    }
   ],
   "source": [
    "git --no-pager log --all --graph"
   ]
  },
  {
   "cell_type": "markdown",
   "metadata": {},
   "source": [
    "![orange-divider](https://user-images.githubusercontent.com/7065401/92672455-187a5f80-f2ef-11ea-890c-40be9474f7b7.png)"
   ]
  }
 ],
 "metadata": {
  "kernelspec": {
   "display_name": "Bash",
   "language": "bash",
   "name": "bash"
  },
  "language_info": {
   "codemirror_mode": "shell",
   "file_extension": ".sh",
   "mimetype": "text/x-sh",
   "name": "bash"
  }
 },
 "nbformat": 4,
 "nbformat_minor": 4
}
